{
 "cells": [
  {
   "cell_type": "code",
   "execution_count": 1,
   "metadata": {},
   "outputs": [],
   "source": [
    "import torch\n",
    "import torch.optim as optim\n",
    "import torch.random as random\n",
    "from torch.utils import data\n",
    "import time\n",
    "import matplotlib.pyplot as plt\n",
    "import numpy as np\n",
    "import wandb\n",
    "%matplotlib inline\n",
    "%load_ext autoreload\n",
    "%autoreload 2"
   ]
  },
  {
   "cell_type": "code",
   "execution_count": 2,
   "metadata": {},
   "outputs": [],
   "source": [
    "class Timer:\n",
    "    def __init__(self):\n",
    "        self.times = []\n",
    "        self.start()\n",
    "\n",
    "    def start(self):\n",
    "        self.tik = time.time()\n",
    "\n",
    "    def stop(self):\n",
    "        self.times.append(time.time() - self.tik)\n",
    "        return self.times[-1]\n",
    "\n",
    "    def avg(self):\n",
    "        return sum(self.times) / len(self.times)\n",
    "\n",
    "    def sum(self):\n",
    "        return sum(self.times)"
   ]
  },
  {
   "cell_type": "code",
   "execution_count": 3,
   "metadata": {},
   "outputs": [],
   "source": [
    "class LogisticRegression:\n",
    "    def logistic_regression(self, X, w):\n",
    "        return 1 / (1 + torch.exp(-torch.mv(X, w)))\n",
    "\n",
    "    def loss(self, x, w, y):\n",
    "        return (-torch.dot(\n",
    "            y, torch.log(LogisticRegression.logistic_regression(self, x, w))\n",
    "        ) - torch.dot(\n",
    "            1 - y, torch.log(1 - LogisticRegression.logistic_regression(self, x, w))\n",
    "        ))\n",
    "    \n",
    "    def lossval(self, x, w, y):\n",
    "        return (-torch.dot(\n",
    "            y, torch.log(LogisticRegression.logistic_regression(self, x, w))\n",
    "        ) - torch.dot(\n",
    "            1 - y, torch.log(1 - LogisticRegression.logistic_regression(self, x, w))\n",
    "        ))/len(x)\n",
    "    \n",
    "    def weightdiff(self, w_hat, w_star):\n",
    "        return (w_hat - w_star).norm()\n",
    "\n",
    "    def quantization(self, w_hat):\n",
    "        return ((w_hat > 0).float() - 0.5) * 2"
   ]
  },
  {
   "cell_type": "code",
   "execution_count": 4,
   "metadata": {},
   "outputs": [],
   "source": [
    "def sgd(params, eps, alpha, step_size, batch_size):\n",
    "    with torch.no_grad():\n",
    "        for param in params:\n",
    "            param -= step_size * param.grad / batch_size\n",
    "            param.grad.zero_()"
   ]
  },
  {
   "cell_type": "code",
   "execution_count": 5,
   "metadata": {},
   "outputs": [],
   "source": [
    "def speed(w, eps, alpha, sg, M):\n",
    "    with torch.no_grad():\n",
    "        sp = torch.zeros(len(w))\n",
    "        psi = eps - (w**2 - 1) ** 2\n",
    "        psid = -4 * (w**2 - 1) * w\n",
    "        dirgrad = torch.logical_or(psi > 0, (-psid * sg) >= -alpha * psi)\n",
    "        sp[dirgrad] = -sg[dirgrad]\n",
    "        sp[~dirgrad] = torch.clip(-alpha * psi / psid, -M, M)[~dirgrad]\n",
    "    return sp\n",
    "def askewsgd(params, eps, alpha, step_size, batch_size):\n",
    "    with torch.no_grad():\n",
    "        for param in params:\n",
    "            sg = param.grad / batch_size\n",
    "            param += step_size * speed(param, eps, alpha, sg, 1)\n",
    "            param.grad.zero_()"
   ]
  },
  {
   "cell_type": "code",
   "execution_count": 6,
   "metadata": {},
   "outputs": [],
   "source": [
    "def newspeed(w, eps, alpha, sg, M):\n",
    "    with torch.no_grad():\n",
    "        sp = torch.zeros(len(w))\n",
    "        psi = eps - (1 - w**2)\n",
    "        psid = 2 * w\n",
    "        dirgrad = torch.logical_or(psi > 0, (-psid * sg) >= -alpha * psi)\n",
    "        sp[dirgrad] = -sg[dirgrad]\n",
    "        sp[~dirgrad] = torch.clip(-alpha * psi / psid, -M, M)[~dirgrad]\n",
    "    return sp\n",
    "def newaskewsgd(params, eps, alpha, step_size, batch_size):\n",
    "    with torch.no_grad():\n",
    "        for param in params:\n",
    "            sg = param.grad / batch_size\n",
    "            param += step_size * newspeed(param, eps, alpha, sg, 1)\n",
    "            param.grad.zero_()"
   ]
  },
  {
   "cell_type": "code",
   "execution_count": 7,
   "metadata": {},
   "outputs": [],
   "source": [
    "def hard_sigmoid(w):\n",
    "    return torch.clip((w + 1) / 2, 0, 1)\n",
    "def binarize(w):\n",
    "    wb = (torch.bernoulli(hard_sigmoid(w)) - 0.5) * 2\n",
    "    return wb\n",
    "def bcsgd(params, eps, alpha, lr, batch_size):\n",
    "    with torch.no_grad():\n",
    "        for param in params:\n",
    "            param -= lr * param.grad / batch_size\n",
    "            torch.clip(param, -1, 1)\n",
    "            param.grad.zero_()"
   ]
  },
  {
   "cell_type": "code",
   "execution_count": 8,
   "metadata": {},
   "outputs": [],
   "source": [
    "def qste(w):\n",
    "    return torch.where(torch.logical_or(w>1, w<-1) == True, 0, 1)\n",
    "def ste(params, eps, alpha, lr, batch_size):\n",
    "    with torch.no_grad():\n",
    "        for param in params:\n",
    "            d = qste(param)\n",
    "            param -= lr * d * param.grad / batch_size\n",
    "            param.grad.zero_()"
   ]
  },
  {
   "cell_type": "code",
   "execution_count": 9,
   "metadata": {},
   "outputs": [],
   "source": [
    "def load_array(features, labels, batch_size, is_train=True):\n",
    "    dataset = data.TensorDataset(features, labels)\n",
    "    return data.DataLoader(dataset, batch_size, shuffle=is_train)"
   ]
  },
  {
   "cell_type": "code",
   "execution_count": 10,
   "metadata": {},
   "outputs": [],
   "source": [
    "def set_size(width, fraction=1):\n",
    "    \"\"\"Set figure dimensions to avoid scaling in LaTeX.\n",
    "\n",
    "    Parameters\n",
    "    ----------\n",
    "    width: float\n",
    "            Document textwidth or columnwidth in pts\n",
    "    fraction: float, optional\n",
    "            Fraction of the width which you wish the figure to occupy\n",
    "\n",
    "    Returns\n",
    "    -------\n",
    "    fig_dim: tuple\n",
    "            Dimensions of figure in inches\n",
    "    \"\"\"\n",
    "    # Width of figure (in pts)\n",
    "    fig_width_pt = width * fraction\n",
    "\n",
    "    # Convert from pt to inches\n",
    "    inches_per_pt = 1 / 72.27\n",
    "\n",
    "    # Golden ratio to set aesthetic figure height\n",
    "    # https://disq.us/p/2940ij3\n",
    "    golden_ratio = (5**0.5 - 1) / 2\n",
    "\n",
    "    # Figure width in inches\n",
    "    fig_width_in = fig_width_pt * inches_per_pt\n",
    "    # Figure height in inches\n",
    "    fig_height_in = fig_width_in * golden_ratio\n",
    "\n",
    "    fig_dim = (fig_width_in, fig_height_in)\n",
    "\n",
    "    return fig_dim"
   ]
  },
  {
   "cell_type": "code",
   "execution_count": 11,
   "metadata": {},
   "outputs": [],
   "source": [
    "class ModelTrainerExperiment1:\n",
    "    def __init__(self, n_train, n_test, dim):\n",
    "        # activate CUDA\n",
    "        device = \"cuda\" if torch.cuda.is_available() else \"cpu\"\n",
    "        # generate data\n",
    "        self.n_train = n_train\n",
    "        self.n_test = n_test\n",
    "        self.n = n_train + n_test\n",
    "        self.dim = dim\n",
    "        self.w_star = (torch.rand(dim) - 0.5).sign()\n",
    "        self.X = torch.rand(self.n, dim)\n",
    "        self.Y = torch.bernoulli(1.0 / (1 + torch.exp(-torch.mv(self.X, self.w_star))))\n",
    "        self.X_train, self.Y_train = self.X[:n_train], self.Y[:n_train]\n",
    "        self.X_test, self.Y_test = self.X[n_train:], self.Y[n_train:]\n",
    "        self.w_init = torch.zeros(dim)\n",
    "        # net = LogisticRegression()\n",
    "        # print(LogisticRegression.loss(net, self.X_train, self.w_star, self.Y_train))\n",
    "\n",
    "    def train(self, ax, optimizer, batch_size, num_epoch, decay_epochs, k=0.88, alpha=0, lr=0, lr_decay=1):\n",
    "        net = LogisticRegression()\n",
    "        w_hat = self.w_init.clone()\n",
    "        w_hat.requires_grad_()\n",
    "        loss = []\n",
    "        weight_loss = []\n",
    "        quantized_loss = []\n",
    "        batch_gradient = []\n",
    "        data_iter = load_array(self.X_train, self.Y_train, batch_size)\n",
    "        opti = optimizer\n",
    "        for epoch in range(num_epoch):\n",
    "            if epoch < 50:\n",
    "                eps = 1\n",
    "            else:\n",
    "                eps = k ** (epoch - 50)\n",
    "            if epoch in decay_epochs:\n",
    "                lr *= lr_decay\n",
    "            for X, y in data_iter:\n",
    "                if optimizer == bcsgd or optimizer == ste:\n",
    "                    with torch.no_grad():\n",
    "                        wb = binarize(w_hat)\n",
    "                    wb.requires_grad_()\n",
    "                    l = LogisticRegression.loss(net, X, wb, y)\n",
    "                    l.backward()\n",
    "                    w_hat.grad = wb.grad\n",
    "                else:\n",
    "                    l = LogisticRegression.loss(net, X, w_hat, y)\n",
    "                    l.backward()\n",
    "\n",
    "                opti([w_hat], eps, alpha, lr, len(X))\n",
    "                l = LogisticRegression.lossval(net, self.X_train, w_hat, self.Y_train)\n",
    "                l.backward()\n",
    "                batch_gradient.append(w_hat.grad.norm())\n",
    "                w_hat.grad.zero_()\n",
    "                with torch.no_grad():\n",
    "                    loss.append(\n",
    "                        LogisticRegression.lossval(net, X, w_hat, y)\n",
    "                        .detach()\n",
    "                        .cpu()\n",
    "                        .numpy()\n",
    "                    )\n",
    "                    weight_loss.append(\n",
    "                        LogisticRegression.weightdiff(net, w_hat, self.w_star)\n",
    "                        .detach()\n",
    "                        .cpu()\n",
    "                        .numpy()\n",
    "                    )\n",
    "                    quantized_loss.append(\n",
    "                        LogisticRegression.lossval(\n",
    "                            net, X, LogisticRegression.quantization(net, w_hat), y\n",
    "                        )\n",
    "                        .detach()\n",
    "                        .cpu()\n",
    "                        .numpy()\n",
    "                    )\n",
    "                    if optimizer == askewsgd or optimizer == bcsgd or optimizer == ste:\n",
    "                        w_hat.data.clamp_(-1, 1)\n",
    "                wandb.log(\n",
    "                    {\n",
    "                        \"loss\": loss[-1],\n",
    "                        \"weight_loss\": weight_loss[-1],\n",
    "                        \"quantized_loss\": quantized_loss[-1],\n",
    "                        \"batch_gradient\": batch_gradient[-1],\n",
    "                    }\n",
    "                )\n",
    "\n",
    "        ax.set_xlabel(r\"Iterations\", fontsize=16)\n",
    "        ax.set_ylabel(r\"d(w_hat, w)\", fontsize=16)\n",
    "        ax.plot(weight_loss)\n",
    "        return loss, weight_loss, quantized_loss, batch_gradient"
   ]
  },
  {
   "cell_type": "code",
   "execution_count": 12,
   "metadata": {},
   "outputs": [
    {
     "name": "stderr",
     "output_type": "stream",
     "text": [
      "Failed to detect the name of this notebook, you can set it manually with the WANDB_NOTEBOOK_NAME environment variable to enable code saving.\n",
      "wandb: Currently logged in as: hokfong (hokfong-the-chinese-university-of-hong-kong). Use `wandb login --relogin` to force relogin\n"
     ]
    },
    {
     "data": {
      "text/html": [
       "wandb version 0.17.5 is available!  To upgrade, please run:\n",
       " $ pip install wandb --upgrade"
      ],
      "text/plain": [
       "<IPython.core.display.HTML object>"
      ]
     },
     "metadata": {},
     "output_type": "display_data"
    },
    {
     "data": {
      "text/html": [
       "Tracking run with wandb version 0.16.6"
      ],
      "text/plain": [
       "<IPython.core.display.HTML object>"
      ]
     },
     "metadata": {},
     "output_type": "display_data"
    },
    {
     "data": {
      "text/html": [
       "Run data is saved locally in <code>c:\\Users\\lenovo\\Desktop\\CUHK\\Research\\wandb\\run-20240726_210515-krpzus68</code>"
      ],
      "text/plain": [
       "<IPython.core.display.HTML object>"
      ]
     },
     "metadata": {},
     "output_type": "display_data"
    },
    {
     "data": {
      "text/html": [
       "Syncing run <strong><a href='https://wandb.ai/hokfong-the-chinese-university-of-hong-kong/exp/runs/krpzus68' target=\"_blank\">ASkewSGD_0.5</a></strong> to <a href='https://wandb.ai/hokfong-the-chinese-university-of-hong-kong/exp' target=\"_blank\">Weights & Biases</a> (<a href='https://wandb.me/run' target=\"_blank\">docs</a>)<br/>"
      ],
      "text/plain": [
       "<IPython.core.display.HTML object>"
      ]
     },
     "metadata": {},
     "output_type": "display_data"
    },
    {
     "data": {
      "text/html": [
       " View project at <a href='https://wandb.ai/hokfong-the-chinese-university-of-hong-kong/exp' target=\"_blank\">https://wandb.ai/hokfong-the-chinese-university-of-hong-kong/exp</a>"
      ],
      "text/plain": [
       "<IPython.core.display.HTML object>"
      ]
     },
     "metadata": {},
     "output_type": "display_data"
    },
    {
     "data": {
      "text/html": [
       " View run at <a href='https://wandb.ai/hokfong-the-chinese-university-of-hong-kong/exp/runs/krpzus68' target=\"_blank\">https://wandb.ai/hokfong-the-chinese-university-of-hong-kong/exp/runs/krpzus68</a>"
      ],
      "text/plain": [
       "<IPython.core.display.HTML object>"
      ]
     },
     "metadata": {},
     "output_type": "display_data"
    },
    {
     "data": {
      "application/vnd.jupyter.widget-view+json": {
       "model_id": "113b088475eb4d6e912ec07e8dfaa3d1",
       "version_major": 2,
       "version_minor": 0
      },
      "text/plain": [
       "VBox(children=(Label(value='0.001 MB of 0.009 MB uploaded\\r'), FloatProgress(value=0.12387460679032433, max=1.…"
      ]
     },
     "metadata": {},
     "output_type": "display_data"
    },
    {
     "data": {
      "text/html": [
       "<style>\n",
       "    table.wandb td:nth-child(1) { padding: 0 10px; text-align: left ; width: auto;} td:nth-child(2) {text-align: left ; width: 100%}\n",
       "    .wandb-row { display: flex; flex-direction: row; flex-wrap: wrap; justify-content: flex-start; width: 100% }\n",
       "    .wandb-col { display: flex; flex-direction: column; flex-basis: 100%; flex: 1; padding: 10px; }\n",
       "    </style>\n",
       "<div class=\"wandb-row\"><div class=\"wandb-col\"><h3>Run history:</h3><br/><table class=\"wandb\"><tr><td>batch_gradient</td><td>██▇▆▆▅▄▅▃▃▃▄▃▃▃▅▂▂▃▁▁▃▂▁▁▁▁▁▁▁▁▁▁▁▁▂▁▁▁▁</td></tr><tr><td>loss</td><td>█▇▇▇▇▆▅▆▅▄▄▅▅▅▄▆▄▄▂▄▄▂▄▃▄▃▄▃▄▅▃▁▄▄▅▃▄▄▅▄</td></tr><tr><td>quantized_loss</td><td>██▁▁▁▁▁▁▁▁▁▁▁▁▁▁▁▁▁▁▁▁▁▁▁▁▁▁▁▁▁▁▁▁▁▁▁▁▁▁</td></tr><tr><td>weight_loss</td><td>██▇▆▅▅▄▄▄▃▃▃▃▂▂▂▂▂▂▂▂▁▁▁▁▁▁▁▁▁▁▁▁▁▁▁▁▁▁▁</td></tr></table><br/></div><div class=\"wandb-col\"><h3>Run summary:</h3><br/><table class=\"wandb\"><tr><td>batch_gradient</td><td>0.00563</td></tr><tr><td>loss</td><td>0.53652</td></tr><tr><td>quantized_loss</td><td>0.5357</td></tr><tr><td>weight_loss</td><td>0.2227</td></tr></table><br/></div></div>"
      ],
      "text/plain": [
       "<IPython.core.display.HTML object>"
      ]
     },
     "metadata": {},
     "output_type": "display_data"
    },
    {
     "data": {
      "text/html": [
       " View run <strong style=\"color:#cdcd00\">ASkewSGD_0.5</strong> at: <a href='https://wandb.ai/hokfong-the-chinese-university-of-hong-kong/exp/runs/krpzus68' target=\"_blank\">https://wandb.ai/hokfong-the-chinese-university-of-hong-kong/exp/runs/krpzus68</a><br/> View project at: <a href='https://wandb.ai/hokfong-the-chinese-university-of-hong-kong/exp' target=\"_blank\">https://wandb.ai/hokfong-the-chinese-university-of-hong-kong/exp</a><br/>Synced 5 W&B file(s), 0 media file(s), 0 artifact file(s) and 0 other file(s)"
      ],
      "text/plain": [
       "<IPython.core.display.HTML object>"
      ]
     },
     "metadata": {},
     "output_type": "display_data"
    },
    {
     "data": {
      "text/html": [
       "Find logs at: <code>.\\wandb\\run-20240726_210515-krpzus68\\logs</code>"
      ],
      "text/plain": [
       "<IPython.core.display.HTML object>"
      ]
     },
     "metadata": {},
     "output_type": "display_data"
    },
    {
     "data": {
      "text/html": [
       "wandb version 0.17.5 is available!  To upgrade, please run:\n",
       " $ pip install wandb --upgrade"
      ],
      "text/plain": [
       "<IPython.core.display.HTML object>"
      ]
     },
     "metadata": {},
     "output_type": "display_data"
    },
    {
     "data": {
      "text/html": [
       "Tracking run with wandb version 0.16.6"
      ],
      "text/plain": [
       "<IPython.core.display.HTML object>"
      ]
     },
     "metadata": {},
     "output_type": "display_data"
    },
    {
     "data": {
      "text/html": [
       "Run data is saved locally in <code>c:\\Users\\lenovo\\Desktop\\CUHK\\Research\\wandb\\run-20240726_210532-dy9lt2eq</code>"
      ],
      "text/plain": [
       "<IPython.core.display.HTML object>"
      ]
     },
     "metadata": {},
     "output_type": "display_data"
    },
    {
     "data": {
      "text/html": [
       "Syncing run <strong><a href='https://wandb.ai/hokfong-the-chinese-university-of-hong-kong/exp/runs/dy9lt2eq' target=\"_blank\">newASkewSGD_0.5</a></strong> to <a href='https://wandb.ai/hokfong-the-chinese-university-of-hong-kong/exp' target=\"_blank\">Weights & Biases</a> (<a href='https://wandb.me/run' target=\"_blank\">docs</a>)<br/>"
      ],
      "text/plain": [
       "<IPython.core.display.HTML object>"
      ]
     },
     "metadata": {},
     "output_type": "display_data"
    },
    {
     "data": {
      "text/html": [
       " View project at <a href='https://wandb.ai/hokfong-the-chinese-university-of-hong-kong/exp' target=\"_blank\">https://wandb.ai/hokfong-the-chinese-university-of-hong-kong/exp</a>"
      ],
      "text/plain": [
       "<IPython.core.display.HTML object>"
      ]
     },
     "metadata": {},
     "output_type": "display_data"
    },
    {
     "data": {
      "text/html": [
       " View run at <a href='https://wandb.ai/hokfong-the-chinese-university-of-hong-kong/exp/runs/dy9lt2eq' target=\"_blank\">https://wandb.ai/hokfong-the-chinese-university-of-hong-kong/exp/runs/dy9lt2eq</a>"
      ],
      "text/plain": [
       "<IPython.core.display.HTML object>"
      ]
     },
     "metadata": {},
     "output_type": "display_data"
    },
    {
     "data": {
      "application/vnd.jupyter.widget-view+json": {
       "model_id": "7e7d95258811408887618e18e6c3fee9",
       "version_major": 2,
       "version_minor": 0
      },
      "text/plain": [
       "VBox(children=(Label(value='0.009 MB of 0.009 MB uploaded\\r'), FloatProgress(value=1.0, max=1.0)))"
      ]
     },
     "metadata": {},
     "output_type": "display_data"
    },
    {
     "data": {
      "text/html": [
       "<style>\n",
       "    table.wandb td:nth-child(1) { padding: 0 10px; text-align: left ; width: auto;} td:nth-child(2) {text-align: left ; width: 100%}\n",
       "    .wandb-row { display: flex; flex-direction: row; flex-wrap: wrap; justify-content: flex-start; width: 100% }\n",
       "    .wandb-col { display: flex; flex-direction: column; flex-basis: 100%; flex: 1; padding: 10px; }\n",
       "    </style>\n",
       "<div class=\"wandb-row\"><div class=\"wandb-col\"><h3>Run history:</h3><br/><table class=\"wandb\"><tr><td>batch_gradient</td><td>█▇▆▅▅▅▅▄▃▃▄▃▂▄▃▂▃▂▃▃▃▂▁▃▂▁▂▂▁▁▁▁▁▁▃▁▁▁▁▁</td></tr><tr><td>loss</td><td>█▆▆▆▄▆▅▄▂▄▄▄▃▁▃▃▂▄▄▃▂▅▃▄▃▃▄▄▃▃▁▄▂▂▄▂▄▂▃▃</td></tr><tr><td>quantized_loss</td><td>█▇▁▁▁▁▁▁▁▁▁▁▁▁▁▁▁▁▁▁▁▁▁▁▁▁▁▁▁▁▁▁▁▁▁▁▁▁▁▁</td></tr><tr><td>weight_loss</td><td>██▇▆▅▅▄▄▄▃▃▃▃▂▂▂▂▂▂▁▁▁▁▁▁▁▁▁▁▁▁▁▁▁▁▁▁▁▁▁</td></tr></table><br/></div><div class=\"wandb-col\"><h3>Run summary:</h3><br/><table class=\"wandb\"><tr><td>batch_gradient</td><td>0.00362</td></tr><tr><td>loss</td><td>0.53379</td></tr><tr><td>quantized_loss</td><td>0.53341</td></tr><tr><td>weight_loss</td><td>0.26214</td></tr></table><br/></div></div>"
      ],
      "text/plain": [
       "<IPython.core.display.HTML object>"
      ]
     },
     "metadata": {},
     "output_type": "display_data"
    },
    {
     "data": {
      "text/html": [
       " View run <strong style=\"color:#cdcd00\">newASkewSGD_0.5</strong> at: <a href='https://wandb.ai/hokfong-the-chinese-university-of-hong-kong/exp/runs/dy9lt2eq' target=\"_blank\">https://wandb.ai/hokfong-the-chinese-university-of-hong-kong/exp/runs/dy9lt2eq</a><br/> View project at: <a href='https://wandb.ai/hokfong-the-chinese-university-of-hong-kong/exp' target=\"_blank\">https://wandb.ai/hokfong-the-chinese-university-of-hong-kong/exp</a><br/>Synced 5 W&B file(s), 0 media file(s), 0 artifact file(s) and 0 other file(s)"
      ],
      "text/plain": [
       "<IPython.core.display.HTML object>"
      ]
     },
     "metadata": {},
     "output_type": "display_data"
    },
    {
     "data": {
      "text/html": [
       "Find logs at: <code>.\\wandb\\run-20240726_210532-dy9lt2eq\\logs</code>"
      ],
      "text/plain": [
       "<IPython.core.display.HTML object>"
      ]
     },
     "metadata": {},
     "output_type": "display_data"
    },
    {
     "data": {
      "application/vnd.jupyter.widget-view+json": {
       "model_id": "295e87af446d48cea4bcaff176da09ee",
       "version_major": 2,
       "version_minor": 0
      },
      "text/plain": [
       "VBox(children=(Label(value='Waiting for wandb.init()...\\r'), FloatProgress(value=0.011111111111111112, max=1.0…"
      ]
     },
     "metadata": {},
     "output_type": "display_data"
    },
    {
     "data": {
      "text/html": [
       "wandb version 0.17.5 is available!  To upgrade, please run:\n",
       " $ pip install wandb --upgrade"
      ],
      "text/plain": [
       "<IPython.core.display.HTML object>"
      ]
     },
     "metadata": {},
     "output_type": "display_data"
    },
    {
     "data": {
      "text/html": [
       "Tracking run with wandb version 0.16.6"
      ],
      "text/plain": [
       "<IPython.core.display.HTML object>"
      ]
     },
     "metadata": {},
     "output_type": "display_data"
    },
    {
     "data": {
      "text/html": [
       "Run data is saved locally in <code>c:\\Users\\lenovo\\Desktop\\CUHK\\Research\\wandb\\run-20240726_210549-0u9juknb</code>"
      ],
      "text/plain": [
       "<IPython.core.display.HTML object>"
      ]
     },
     "metadata": {},
     "output_type": "display_data"
    },
    {
     "data": {
      "text/html": [
       "Syncing run <strong><a href='https://wandb.ai/hokfong-the-chinese-university-of-hong-kong/exp/runs/0u9juknb' target=\"_blank\">SGD</a></strong> to <a href='https://wandb.ai/hokfong-the-chinese-university-of-hong-kong/exp' target=\"_blank\">Weights & Biases</a> (<a href='https://wandb.me/run' target=\"_blank\">docs</a>)<br/>"
      ],
      "text/plain": [
       "<IPython.core.display.HTML object>"
      ]
     },
     "metadata": {},
     "output_type": "display_data"
    },
    {
     "data": {
      "text/html": [
       " View project at <a href='https://wandb.ai/hokfong-the-chinese-university-of-hong-kong/exp' target=\"_blank\">https://wandb.ai/hokfong-the-chinese-university-of-hong-kong/exp</a>"
      ],
      "text/plain": [
       "<IPython.core.display.HTML object>"
      ]
     },
     "metadata": {},
     "output_type": "display_data"
    },
    {
     "data": {
      "text/html": [
       " View run at <a href='https://wandb.ai/hokfong-the-chinese-university-of-hong-kong/exp/runs/0u9juknb' target=\"_blank\">https://wandb.ai/hokfong-the-chinese-university-of-hong-kong/exp/runs/0u9juknb</a>"
      ],
      "text/plain": [
       "<IPython.core.display.HTML object>"
      ]
     },
     "metadata": {},
     "output_type": "display_data"
    },
    {
     "data": {
      "application/vnd.jupyter.widget-view+json": {
       "model_id": "c95716e3a18e4cc2aa0e1c20a60e4b50",
       "version_major": 2,
       "version_minor": 0
      },
      "text/plain": [
       "VBox(children=(Label(value='0.001 MB of 0.009 MB uploaded\\r'), FloatProgress(value=0.1238870792616721, max=1.0…"
      ]
     },
     "metadata": {},
     "output_type": "display_data"
    },
    {
     "data": {
      "text/html": [
       "<style>\n",
       "    table.wandb td:nth-child(1) { padding: 0 10px; text-align: left ; width: auto;} td:nth-child(2) {text-align: left ; width: 100%}\n",
       "    .wandb-row { display: flex; flex-direction: row; flex-wrap: wrap; justify-content: flex-start; width: 100% }\n",
       "    .wandb-col { display: flex; flex-direction: column; flex-basis: 100%; flex: 1; padding: 10px; }\n",
       "    </style>\n",
       "<div class=\"wandb-row\"><div class=\"wandb-col\"><h3>Run history:</h3><br/><table class=\"wandb\"><tr><td>batch_gradient</td><td>█▇▇▆▅▅▄▄▄▃▃▃▃▃▃▄▂▂▃▂▂▂▃▄▁▂▁▁▁▂▁▁▂▁▂▁▁▂▂▁</td></tr><tr><td>loss</td><td>█▇▆▇▆▅▅▅▄▄▄▄▃▃▄▄▄▅▅▃▅▃▄▂▃▄▄▃▅▁▅▃▄▅▃▄▃▂▄▃</td></tr><tr><td>quantized_loss</td><td>█▇▁▁▁▁▁▁▁▁▁▁▁▁▁▁▁▁▁▁▁▁▁▁▁▁▁▁▁▁▁▁▁▁▁▁▁▁▁▁</td></tr><tr><td>weight_loss</td><td>██▇▆▅▅▄▄▄▃▃▃▃▂▂▂▂▂▂▁▁▁▁▁▁▁▁▁▁▁▁▁▁▁▁▁▁▁▁▁</td></tr></table><br/></div><div class=\"wandb-col\"><h3>Run summary:</h3><br/><table class=\"wandb\"><tr><td>batch_gradient</td><td>0.00193</td></tr><tr><td>loss</td><td>0.53038</td></tr><tr><td>quantized_loss</td><td>0.53287</td></tr><tr><td>weight_loss</td><td>0.26284</td></tr></table><br/></div></div>"
      ],
      "text/plain": [
       "<IPython.core.display.HTML object>"
      ]
     },
     "metadata": {},
     "output_type": "display_data"
    },
    {
     "data": {
      "text/html": [
       " View run <strong style=\"color:#cdcd00\">SGD</strong> at: <a href='https://wandb.ai/hokfong-the-chinese-university-of-hong-kong/exp/runs/0u9juknb' target=\"_blank\">https://wandb.ai/hokfong-the-chinese-university-of-hong-kong/exp/runs/0u9juknb</a><br/> View project at: <a href='https://wandb.ai/hokfong-the-chinese-university-of-hong-kong/exp' target=\"_blank\">https://wandb.ai/hokfong-the-chinese-university-of-hong-kong/exp</a><br/>Synced 5 W&B file(s), 0 media file(s), 0 artifact file(s) and 0 other file(s)"
      ],
      "text/plain": [
       "<IPython.core.display.HTML object>"
      ]
     },
     "metadata": {},
     "output_type": "display_data"
    },
    {
     "data": {
      "text/html": [
       "Find logs at: <code>.\\wandb\\run-20240726_210549-0u9juknb\\logs</code>"
      ],
      "text/plain": [
       "<IPython.core.display.HTML object>"
      ]
     },
     "metadata": {},
     "output_type": "display_data"
    },
    {
     "data": {
      "application/vnd.jupyter.widget-view+json": {
       "model_id": "0b791584d0684e2c8df62b62298e247f",
       "version_major": 2,
       "version_minor": 0
      },
      "text/plain": [
       "VBox(children=(Label(value='Waiting for wandb.init()...\\r'), FloatProgress(value=0.011111111111111112, max=1.0…"
      ]
     },
     "metadata": {},
     "output_type": "display_data"
    },
    {
     "data": {
      "text/html": [
       "wandb version 0.17.5 is available!  To upgrade, please run:\n",
       " $ pip install wandb --upgrade"
      ],
      "text/plain": [
       "<IPython.core.display.HTML object>"
      ]
     },
     "metadata": {},
     "output_type": "display_data"
    },
    {
     "data": {
      "text/html": [
       "Tracking run with wandb version 0.16.6"
      ],
      "text/plain": [
       "<IPython.core.display.HTML object>"
      ]
     },
     "metadata": {},
     "output_type": "display_data"
    },
    {
     "data": {
      "text/html": [
       "Run data is saved locally in <code>c:\\Users\\lenovo\\Desktop\\CUHK\\Research\\wandb\\run-20240726_210608-t0wd6ou0</code>"
      ],
      "text/plain": [
       "<IPython.core.display.HTML object>"
      ]
     },
     "metadata": {},
     "output_type": "display_data"
    },
    {
     "data": {
      "text/html": [
       "Syncing run <strong><a href='https://wandb.ai/hokfong-the-chinese-university-of-hong-kong/exp/runs/t0wd6ou0' target=\"_blank\">BinaryConnect</a></strong> to <a href='https://wandb.ai/hokfong-the-chinese-university-of-hong-kong/exp' target=\"_blank\">Weights & Biases</a> (<a href='https://wandb.me/run' target=\"_blank\">docs</a>)<br/>"
      ],
      "text/plain": [
       "<IPython.core.display.HTML object>"
      ]
     },
     "metadata": {},
     "output_type": "display_data"
    },
    {
     "data": {
      "text/html": [
       " View project at <a href='https://wandb.ai/hokfong-the-chinese-university-of-hong-kong/exp' target=\"_blank\">https://wandb.ai/hokfong-the-chinese-university-of-hong-kong/exp</a>"
      ],
      "text/plain": [
       "<IPython.core.display.HTML object>"
      ]
     },
     "metadata": {},
     "output_type": "display_data"
    },
    {
     "data": {
      "text/html": [
       " View run at <a href='https://wandb.ai/hokfong-the-chinese-university-of-hong-kong/exp/runs/t0wd6ou0' target=\"_blank\">https://wandb.ai/hokfong-the-chinese-university-of-hong-kong/exp/runs/t0wd6ou0</a>"
      ],
      "text/plain": [
       "<IPython.core.display.HTML object>"
      ]
     },
     "metadata": {},
     "output_type": "display_data"
    },
    {
     "data": {
      "application/vnd.jupyter.widget-view+json": {
       "model_id": "789d687932b348d8bb0a867f50ce5049",
       "version_major": 2,
       "version_minor": 0
      },
      "text/plain": [
       "VBox(children=(Label(value='0.009 MB of 0.009 MB uploaded\\r'), FloatProgress(value=1.0, max=1.0)))"
      ]
     },
     "metadata": {},
     "output_type": "display_data"
    },
    {
     "data": {
      "text/html": [
       "<style>\n",
       "    table.wandb td:nth-child(1) { padding: 0 10px; text-align: left ; width: auto;} td:nth-child(2) {text-align: left ; width: 100%}\n",
       "    .wandb-row { display: flex; flex-direction: row; flex-wrap: wrap; justify-content: flex-start; width: 100% }\n",
       "    .wandb-col { display: flex; flex-direction: column; flex-basis: 100%; flex: 1; padding: 10px; }\n",
       "    </style>\n",
       "<div class=\"wandb-row\"><div class=\"wandb-col\"><h3>Run history:</h3><br/><table class=\"wandb\"><tr><td>batch_gradient</td><td>▇█▄█▇▃▄▂▅▅▃▁▇▂▄▂▃▁▃▂▂▃▂▃▂▂▁▂▁▁▃▁▁▂▁▂▂▃▁▂</td></tr><tr><td>loss</td><td>▇█▄█▄▂▃▂▃▃▂▁▅▂▂▁▂▂▂▂▂▂▂▂▂▁▁▁▂▂▂▂▂▂▂▂▂▂▂▂</td></tr><tr><td>quantized_loss</td><td>█▇▆▇▁▁▁▁▁▁▁▁▁▁▁▁▁▁▁▁▁▁▁▁▁▁▁▁▁▁▁▁▁▁▁▁▁▁▁▁</td></tr><tr><td>weight_loss</td><td>██▆▇▅▄▄▃▃▃▃▂▃▂▂▂▂▂▂▂▁▂▂▂▁▁▁▁▁▁▁▁▁▁▁▁▁▁▁▁</td></tr></table><br/></div><div class=\"wandb-col\"><h3>Run summary:</h3><br/><table class=\"wandb\"><tr><td>batch_gradient</td><td>0.06845</td></tr><tr><td>loss</td><td>0.54073</td></tr><tr><td>quantized_loss</td><td>0.5354</td></tr><tr><td>weight_loss</td><td>0.29141</td></tr></table><br/></div></div>"
      ],
      "text/plain": [
       "<IPython.core.display.HTML object>"
      ]
     },
     "metadata": {},
     "output_type": "display_data"
    },
    {
     "data": {
      "text/html": [
       " View run <strong style=\"color:#cdcd00\">BinaryConnect</strong> at: <a href='https://wandb.ai/hokfong-the-chinese-university-of-hong-kong/exp/runs/t0wd6ou0' target=\"_blank\">https://wandb.ai/hokfong-the-chinese-university-of-hong-kong/exp/runs/t0wd6ou0</a><br/> View project at: <a href='https://wandb.ai/hokfong-the-chinese-university-of-hong-kong/exp' target=\"_blank\">https://wandb.ai/hokfong-the-chinese-university-of-hong-kong/exp</a><br/>Synced 5 W&B file(s), 0 media file(s), 0 artifact file(s) and 0 other file(s)"
      ],
      "text/plain": [
       "<IPython.core.display.HTML object>"
      ]
     },
     "metadata": {},
     "output_type": "display_data"
    },
    {
     "data": {
      "text/html": [
       "Find logs at: <code>.\\wandb\\run-20240726_210608-t0wd6ou0\\logs</code>"
      ],
      "text/plain": [
       "<IPython.core.display.HTML object>"
      ]
     },
     "metadata": {},
     "output_type": "display_data"
    },
    {
     "data": {
      "application/vnd.jupyter.widget-view+json": {
       "model_id": "099fd9ad3f06467c914dd818df05cf28",
       "version_major": 2,
       "version_minor": 0
      },
      "text/plain": [
       "VBox(children=(Label(value='Waiting for wandb.init()...\\r'), FloatProgress(value=0.011277777777286247, max=1.0…"
      ]
     },
     "metadata": {},
     "output_type": "display_data"
    },
    {
     "data": {
      "text/html": [
       "wandb version 0.17.5 is available!  To upgrade, please run:\n",
       " $ pip install wandb --upgrade"
      ],
      "text/plain": [
       "<IPython.core.display.HTML object>"
      ]
     },
     "metadata": {},
     "output_type": "display_data"
    },
    {
     "data": {
      "text/html": [
       "Tracking run with wandb version 0.16.6"
      ],
      "text/plain": [
       "<IPython.core.display.HTML object>"
      ]
     },
     "metadata": {},
     "output_type": "display_data"
    },
    {
     "data": {
      "text/html": [
       "Run data is saved locally in <code>c:\\Users\\lenovo\\Desktop\\CUHK\\Research\\wandb\\run-20240726_210626-e6txkd7j</code>"
      ],
      "text/plain": [
       "<IPython.core.display.HTML object>"
      ]
     },
     "metadata": {},
     "output_type": "display_data"
    },
    {
     "data": {
      "text/html": [
       "Syncing run <strong><a href='https://wandb.ai/hokfong-the-chinese-university-of-hong-kong/exp/runs/e6txkd7j' target=\"_blank\">STE</a></strong> to <a href='https://wandb.ai/hokfong-the-chinese-university-of-hong-kong/exp' target=\"_blank\">Weights & Biases</a> (<a href='https://wandb.me/run' target=\"_blank\">docs</a>)<br/>"
      ],
      "text/plain": [
       "<IPython.core.display.HTML object>"
      ]
     },
     "metadata": {},
     "output_type": "display_data"
    },
    {
     "data": {
      "text/html": [
       " View project at <a href='https://wandb.ai/hokfong-the-chinese-university-of-hong-kong/exp' target=\"_blank\">https://wandb.ai/hokfong-the-chinese-university-of-hong-kong/exp</a>"
      ],
      "text/plain": [
       "<IPython.core.display.HTML object>"
      ]
     },
     "metadata": {},
     "output_type": "display_data"
    },
    {
     "data": {
      "text/html": [
       " View run at <a href='https://wandb.ai/hokfong-the-chinese-university-of-hong-kong/exp/runs/e6txkd7j' target=\"_blank\">https://wandb.ai/hokfong-the-chinese-university-of-hong-kong/exp/runs/e6txkd7j</a>"
      ],
      "text/plain": [
       "<IPython.core.display.HTML object>"
      ]
     },
     "metadata": {},
     "output_type": "display_data"
    },
    {
     "data": {
      "application/vnd.jupyter.widget-view+json": {
       "model_id": "81e4ef37bfca4c40b9ec0d37d0bc749d",
       "version_major": 2,
       "version_minor": 0
      },
      "text/plain": [
       "VBox(children=(Label(value='0.001 MB of 0.009 MB uploaded\\r'), FloatProgress(value=0.12365882735450309, max=1.…"
      ]
     },
     "metadata": {},
     "output_type": "display_data"
    },
    {
     "data": {
      "text/html": [
       "<style>\n",
       "    table.wandb td:nth-child(1) { padding: 0 10px; text-align: left ; width: auto;} td:nth-child(2) {text-align: left ; width: 100%}\n",
       "    .wandb-row { display: flex; flex-direction: row; flex-wrap: wrap; justify-content: flex-start; width: 100% }\n",
       "    .wandb-col { display: flex; flex-direction: column; flex-basis: 100%; flex: 1; padding: 10px; }\n",
       "    </style>\n",
       "<div class=\"wandb-row\"><div class=\"wandb-col\"><h3>Run history:</h3><br/><table class=\"wandb\"><tr><td>batch_gradient</td><td>▅▅▃▃▄█▂▂▇▂▄▃▅▃▃▃▇▆▁▆▂▃▃▄▄▁▂▃▁▂▃▄▁▂▁▂▂▂▁▄</td></tr><tr><td>loss</td><td>▅▆▅▄▄█▃▂▇▂▅▂▄▂▂▃▅▆▁▄▃▁▂▃▂▂▂▁▂▃▂▃▂▂▃▂▃▂▂▃</td></tr><tr><td>quantized_loss</td><td>▇█▂▁▁▁▁▁▁▁▁▁▁▁▁▁▁▁▁▁▁▁▁▁▁▁▁▁▁▁▁▁▁▁▁▁▁▁▁▁</td></tr><tr><td>weight_loss</td><td>██▇▆▅▅▄▃▃▂▃▂▂▂▂▂▂▂▂▂▂▂▁▁▂▁▁▁▁▁▁▁▁▁▁▁▁▁▁▁</td></tr></table><br/></div><div class=\"wandb-col\"><h3>Run summary:</h3><br/><table class=\"wandb\"><tr><td>batch_gradient</td><td>0.11098</td></tr><tr><td>loss</td><td>0.55568</td></tr><tr><td>quantized_loss</td><td>0.53439</td></tr><tr><td>weight_loss</td><td>0.41921</td></tr></table><br/></div></div>"
      ],
      "text/plain": [
       "<IPython.core.display.HTML object>"
      ]
     },
     "metadata": {},
     "output_type": "display_data"
    },
    {
     "data": {
      "text/html": [
       " View run <strong style=\"color:#cdcd00\">STE</strong> at: <a href='https://wandb.ai/hokfong-the-chinese-university-of-hong-kong/exp/runs/e6txkd7j' target=\"_blank\">https://wandb.ai/hokfong-the-chinese-university-of-hong-kong/exp/runs/e6txkd7j</a><br/> View project at: <a href='https://wandb.ai/hokfong-the-chinese-university-of-hong-kong/exp' target=\"_blank\">https://wandb.ai/hokfong-the-chinese-university-of-hong-kong/exp</a><br/>Synced 5 W&B file(s), 0 media file(s), 0 artifact file(s) and 0 other file(s)"
      ],
      "text/plain": [
       "<IPython.core.display.HTML object>"
      ]
     },
     "metadata": {},
     "output_type": "display_data"
    },
    {
     "data": {
      "text/html": [
       "Find logs at: <code>.\\wandb\\run-20240726_210626-e6txkd7j\\logs</code>"
      ],
      "text/plain": [
       "<IPython.core.display.HTML object>"
      ]
     },
     "metadata": {},
     "output_type": "display_data"
    },
    {
     "data": {
      "image/png": "[encoded data removed]",
      "text/plain": [
       "<Figure size 830.22x513.104 with 1 Axes>"
      ]
     },
     "metadata": {},
     "output_type": "display_data"
    }
   ],
   "source": [
    "trainer = ModelTrainerExperiment1(n_train=6000, n_test=1000, dim=10)\n",
    "num_epoch = 50\n",
    "batch_size = 1000\n",
    "decay_epoch = [30, 60]\n",
    "# Using seaborn's style\n",
    "plt.style.use(\"seaborn\")\n",
    "width = 600\n",
    "# Initialise figure instance\n",
    "fig, ax = plt.subplots(1, 1, figsize=set_size(width))\n",
    "# start a new wandb run to track this script\n",
    "wandb.init(\n",
    "    # set the wandb project where this run will be logged\n",
    "    project=\"exp\",\n",
    "    name=\"ASkewSGD_0.5\",\n",
    "    # track hyperparameters and run metadata\n",
    "    config={\n",
    "        \"batch_size\": 1000,\n",
    "        \"architecture\": \"ASkewSGD_0.5\",\n",
    "        \"dataset\": \"LogisticRegression\",\n",
    "        \"epochs\": 50,\n",
    "    },\n",
    ")\n",
    "# simulate training\n",
    "\n",
    "ModelTrainerExperiment1.train(\n",
    "    trainer, ax, askewsgd, batch_size=batch_size, num_epoch=num_epoch, decay_epochs=decay_epoch, alpha=0.1, lr=1, lr_decay=0.5\n",
    ")\n",
    "wandb.finish()\n",
    "# start a new wandb run to track this script\n",
    "wandb.init(\n",
    "    # set the wandb project where this run will be logged\n",
    "    project=\"exp\",\n",
    "    name=\"newASkewSGD_0.5\",\n",
    "    # track hyperparameters and run metadata\n",
    "    config={\n",
    "        \"batch_size\": 1000,\n",
    "        \"architecture\": \"ASkewSGD_0.5\",\n",
    "        \"dataset\": \"LogisticRegression\",\n",
    "        \"epochs\": 50,\n",
    "    },\n",
    ")\n",
    "# simulate training\n",
    "\n",
    "ModelTrainerExperiment1.train(\n",
    "    trainer, ax, newaskewsgd, batch_size=batch_size, num_epoch=num_epoch, decay_epochs=decay_epoch, alpha=0.1, lr=1, lr_decay=0.5\n",
    ")\n",
    "wandb.finish()\n",
    "wandb.init(\n",
    "    # set the wandb project where this run will be logged\n",
    "    project=\"exp\",\n",
    "    name=\"SGD\",\n",
    "    # track hyperparameters and run metadata\n",
    "    config={\n",
    "        \"batch_size\": 1000,\n",
    "        \"architecture\": \"SGD\",\n",
    "        \"dataset\": \"LogisticRegression\",\n",
    "        \"epochs\": 50,\n",
    "    },\n",
    ")\n",
    "ModelTrainerExperiment1.train(trainer, ax, sgd, batch_size=batch_size, decay_epochs=decay_epoch, num_epoch=num_epoch, lr=1, lr_decay=0.5)\n",
    "wandb.finish()\n",
    "wandb.init(\n",
    "    # set the wandb project where this run will be logged\n",
    "    project=\"exp\",\n",
    "    name=\"BinaryConnect\",\n",
    "    # track hyperparameters and run metadata\n",
    "    config={\n",
    "        \"batch_size\": 1000,\n",
    "        \"architecture\": \"BinaryConnect\",\n",
    "        \"dataset\": \"LogisticRegression\",\n",
    "        \"epochs\": 50,\n",
    "    },\n",
    ")\n",
    "ModelTrainerExperiment1.train(trainer, ax, bcsgd, batch_size=batch_size, decay_epochs=decay_epoch, num_epoch=num_epoch, lr=1, lr_decay=0.5)\n",
    "wandb.finish()\n",
    "wandb.init(\n",
    "    # set the wandb project where this run will be logged\n",
    "    project=\"exp\",\n",
    "    name=\"STE\",\n",
    "    # track hyperparameters and run metadata\n",
    "    config={\n",
    "        \"batch_size\": 1000,\n",
    "        \"architecture\": \"StraightThroughEstimator\",\n",
    "        \"dataset\": \"LogisticRegression\",\n",
    "        \"epochs\": 50,\n",
    "    },\n",
    ")\n",
    "ModelTrainerExperiment1.train(trainer, ax, ste, batch_size=batch_size, num_epoch=num_epoch, decay_epochs=decay_epoch, lr=1, lr_decay=0.5)\n",
    "wandb.finish()\n",
    "fig.savefig(\"weight_loss_logisticregression.pdf\", format=\"pdf\", bbox_inches=\"tight\")"
   ]
  }
 ],
 "metadata": {
  "kernelspec": {
   "display_name": "dl",
   "language": "python",
   "name": "python3"
  },
  "language_info": {
   "codemirror_mode": {
    "name": "ipython",
    "version": 3
   },
   "file_extension": ".py",
   "mimetype": "text/x-python",
   "name": "python",
   "nbconvert_exporter": "python",
   "pygments_lexer": "ipython3",
   "version": "3.9.19"
  }
 },
 "nbformat": 4,
 "nbformat_minor": 2
}
